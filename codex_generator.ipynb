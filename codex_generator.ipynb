{
 "cells": [
  {
   "cell_type": "code",
   "execution_count": 116,
   "metadata": {},
   "outputs": [],
   "source": [
    "import requests\n",
    "import pandas as pd"
   ]
  },
  {
   "cell_type": "markdown",
   "metadata": {},
   "source": [
    "### Retrieve the Bitcoin BIP-39 Word List word list, store as a dataframe, and convert it to CSV format"
   ]
  },
  {
   "cell_type": "code",
   "execution_count": 117,
   "metadata": {},
   "outputs": [
    {
     "name": "stdout",
     "output_type": "stream",
     "text": [
      "Bitcoin word list has been saved to bip39_word_list.csv\n"
     ]
    }
   ],
   "source": [
    "# URL of the BIP-39 Word List\n",
    "url = 'https://raw.githubusercontent.com/bitcoin/bips/master/bip-0039/english.txt'\n",
    "filename = 'bip39_word_list'\n",
    "\n",
    "# Retrieve the word list\n",
    "response = requests.get(url)\n",
    "words = response.text.splitlines()\n",
    "\n",
    "# Convert words to a DataFrame\n",
    "df = pd.DataFrame({'word': words})\n",
    "df['11-bit binary'] = df.index.to_series().apply(lambda x: format(x, '011b'))  # Convert word index to 11-bit binary\n",
    "\n",
    "# Save DataFrame to CSV \n",
    "df[['word', '11-bit binary']].to_csv(f'{filename}.csv', index=False, header=False)\n",
    "print(f'Bitcoin word list has been saved to {filename}.csv')\n"
   ]
  },
  {
   "cell_type": "markdown",
   "metadata": {},
   "source": [
    "Now have the word list saved as a dataframe."
   ]
  },
  {
   "cell_type": "code",
   "execution_count": 118,
   "metadata": {},
   "outputs": [
    {
     "data": {
      "text/html": [
       "<div>\n",
       "<style scoped>\n",
       "    .dataframe tbody tr th:only-of-type {\n",
       "        vertical-align: middle;\n",
       "    }\n",
       "\n",
       "    .dataframe tbody tr th {\n",
       "        vertical-align: top;\n",
       "    }\n",
       "\n",
       "    .dataframe thead th {\n",
       "        text-align: right;\n",
       "    }\n",
       "</style>\n",
       "<table border=\"1\" class=\"dataframe\">\n",
       "  <thead>\n",
       "    <tr style=\"text-align: right;\">\n",
       "      <th></th>\n",
       "      <th>word</th>\n",
       "      <th>11-bit binary</th>\n",
       "    </tr>\n",
       "  </thead>\n",
       "  <tbody>\n",
       "    <tr>\n",
       "      <th>0</th>\n",
       "      <td>abandon</td>\n",
       "      <td>00000000000</td>\n",
       "    </tr>\n",
       "    <tr>\n",
       "      <th>1</th>\n",
       "      <td>ability</td>\n",
       "      <td>00000000001</td>\n",
       "    </tr>\n",
       "    <tr>\n",
       "      <th>2</th>\n",
       "      <td>able</td>\n",
       "      <td>00000000010</td>\n",
       "    </tr>\n",
       "    <tr>\n",
       "      <th>3</th>\n",
       "      <td>about</td>\n",
       "      <td>00000000011</td>\n",
       "    </tr>\n",
       "    <tr>\n",
       "      <th>4</th>\n",
       "      <td>above</td>\n",
       "      <td>00000000100</td>\n",
       "    </tr>\n",
       "  </tbody>\n",
       "</table>\n",
       "</div>"
      ],
      "text/plain": [
       "      word 11-bit binary\n",
       "0  abandon   00000000000\n",
       "1  ability   00000000001\n",
       "2     able   00000000010\n",
       "3    about   00000000011\n",
       "4    above   00000000100"
      ]
     },
     "execution_count": 118,
     "metadata": {},
     "output_type": "execute_result"
    }
   ],
   "source": [
    "df.head()"
   ]
  },
  {
   "cell_type": "markdown",
   "metadata": {},
   "source": [
    "We can retreive the binary of a given row like this."
   ]
  },
  {
   "cell_type": "code",
   "execution_count": 119,
   "metadata": {},
   "outputs": [],
   "source": [
    "# Retrieve the binary of the first row\n",
    "binary_of_first_row = df.iloc[1]['11-bit binary']"
   ]
  },
  {
   "cell_type": "markdown",
   "metadata": {},
   "source": [
    "## Right Rotation Explanation\n",
    "\n",
    "Right rotation is a bitwise operation that shifts all the bits of a binary number to the right by a specified number of positions. The bits that are shifted out from the right end are reintroduced at the left end.\n",
    "\n",
    "### Visual Example\n",
    "\n",
    "Let's take a BIP-39 word and represent it as a binary number. For simplicity, we'll use a short binary example.\n",
    "\n",
    "Suppose we have a binary number: `10110011`\n",
    "\n",
    "If we right rotate this binary number by 3 bits, the operation would look like this:\n",
    "\n",
    "```\n",
    "Original:  10110011\n",
    "Rotate by 3: 01110110\n",
    "```\n",
    "\n",
    "Here's how it works step-by-step:\n",
    "1. The last 3 bits `011` are taken out.\n",
    "2. The remaining bits `10110` are shifted to the right by 3 positions.\n",
    "3. The bits `011` that were taken out are placed at the beginning.\n",
    "\n",
    "### BIP-39 Word Example\n",
    "\n",
    "Each BIP-39 word corresponds to an 11-bit binary number. Let's take an example word and its binary representation:\n",
    "\n",
    "- Example BIP-39 word: \"airport\"\n",
    "- Binary representation: `00000101100`\n",
    "\n",
    "If we right rotate this binary number by 3 bits, the operation would look like this:\n",
    "\n",
    "```\n",
    "Original:  00000101100\n",
    "Rotate by 3: 10000000101\n",
    "```\n",
    "\n",
    "Here's how it works step-by-step:\n",
    "1. The last 3 bits `100` are taken out.\n",
    "2. The remaining bits `000001011` are shifted to the right by 3 positions.\n",
    "3. The bits `100` that were taken out are placed at the beginning.\n",
    "\n",
    "By performing this right rotation, we get a new binary number `10000000101` which corresponds to the word `level`, a different BIP-39 word.\n",
    "\n",
    "This operation can be useful in various cryptographic applications where bitwise manipulations are required."
   ]
  },
  {
   "cell_type": "markdown",
   "metadata": {},
   "source": [
    "#### Splicing Review\n",
    "to do the right rotation operation, we need to review splicing"
   ]
  },
  {
   "cell_type": "code",
   "execution_count": 120,
   "metadata": {},
   "outputs": [
    {
     "name": "stdout",
     "output_type": "stream",
     "text": [
      "Original: The Original String\n",
      "Bit Number: 2\n",
      "\n",
      "First 2 bits: Th-----------------\n",
      "Last 17 bits: --e Original String\n",
      "\n",
      "First 17 bits: The Original Stri--\n",
      "Last 2 bits: --ng\n",
      "Performaing a right rotation of 2:\n",
      "Original: The Original String\n"
     ]
    }
   ],
   "source": [
    "binary_str = \"The Original String\"\n",
    "bits = 2\n",
    "length = len(binary_str)\n",
    "\n",
    "print(\"Original:\", binary_str)\n",
    "print(\"Bit Number:\", bits)\n",
    "\n",
    "print(f'\\nFirst {bits} bits: {binary_str[:bits] + \"-\" * (length - bits)}')\n",
    "print(f'Last {length - bits} bits: {\"-\" * (bits) + binary_str[bits:]}')\n",
    "\n",
    "\n",
    "print(f'\\nFirst {length - bits} bits: {binary_str[:-bits:] + \"-\" * (bits)}')\n",
    "print(f'Last {bits} bits: {\"-\" * (bits) + binary_str[-bits:]}')\n",
    "\n",
    "print(f\"Performaing a right rotation of {bits}:\")\n",
    "print(\"Original:\", binary_str)\n"
   ]
  },
  {
   "cell_type": "markdown",
   "metadata": {},
   "source": [
    "**Now that we know splicing, this is how we do a right rotation.**|"
   ]
  },
  {
   "cell_type": "code",
   "execution_count": 121,
   "metadata": {},
   "outputs": [
    {
     "name": "stdout",
     "output_type": "stream",
     "text": [
      "Original String: 00000111111\n",
      "First Part of String: 00000111---\n",
      "Last Part of String: --------111\n",
      "Right Rotated String: 11100000111\n"
     ]
    }
   ],
   "source": [
    "binary_str = \"00000111111\"\n",
    "bits = 3\n",
    "length = len(binary_str)\n",
    "\n",
    "print(f\"Original String: {binary_str}\")\n",
    "# to do the right rotation, we need \n",
    "# the first part of the string\n",
    "first_part_of_string = binary_str[:-bits]\n",
    "print(f\"First Part of String: {first_part_of_string + '-' * (bits)}\")\n",
    "\n",
    "# the last part of the string\n",
    "last_part_of_string = binary_str[-bits:]\n",
    "print(f\"Last Part of String: {'-' * (len(first_part_of_string)) + last_part_of_string}\")\n",
    "\n",
    "# and reverse the order\n",
    "rotated_binary_string = last_part_of_string + first_part_of_string\n",
    "print(f\"Right Rotated String: {rotated_binary_string}\")\n"
   ]
  },
  {
   "cell_type": "markdown",
   "metadata": {},
   "source": [
    "`right_rotate()` function"
   ]
  },
  {
   "cell_type": "code",
   "execution_count": 122,
   "metadata": {},
   "outputs": [
    {
     "data": {
      "text/plain": [
       "'11100000111'"
      ]
     },
     "execution_count": 122,
     "metadata": {},
     "output_type": "execute_result"
    }
   ],
   "source": [
    "# Perform a right rotation\n",
    "def right_rotate(binary_str, n):\n",
    "    \n",
    "    # This line rotates the string `binary_str` to the right by `n` positions.\n",
    "    # It takes the last `n` characters of `binary_str` and moves them to the front,\n",
    "    # while the rest of the string is shifted to the right.\n",
    "    return binary_str[-n:] + binary_str[:-n]\n",
    "\n",
    "binary_str = \"00000111111\"\n",
    "bits = 3\n",
    "length = len(binary_str)\n",
    "\n",
    "# Example: Rotate by 3 bits\n",
    "rotated_binary = right_rotate(binary_str, bits)\n",
    "rotated_binary"
   ]
  },
  {
   "cell_type": "code",
   "execution_count": 123,
   "metadata": {},
   "outputs": [
    {
     "data": {
      "text/html": [
       "<div>\n",
       "<style scoped>\n",
       "    .dataframe tbody tr th:only-of-type {\n",
       "        vertical-align: middle;\n",
       "    }\n",
       "\n",
       "    .dataframe tbody tr th {\n",
       "        vertical-align: top;\n",
       "    }\n",
       "\n",
       "    .dataframe thead th {\n",
       "        text-align: right;\n",
       "    }\n",
       "</style>\n",
       "<table border=\"1\" class=\"dataframe\">\n",
       "  <thead>\n",
       "    <tr style=\"text-align: right;\">\n",
       "      <th></th>\n",
       "      <th>word</th>\n",
       "      <th>11-bit binary</th>\n",
       "      <th>rotated_1_bits</th>\n",
       "    </tr>\n",
       "  </thead>\n",
       "  <tbody>\n",
       "    <tr>\n",
       "      <th>0</th>\n",
       "      <td>abandon</td>\n",
       "      <td>00000000000</td>\n",
       "      <td>00000000000</td>\n",
       "    </tr>\n",
       "    <tr>\n",
       "      <th>1</th>\n",
       "      <td>ability</td>\n",
       "      <td>00000000001</td>\n",
       "      <td>10000000000</td>\n",
       "    </tr>\n",
       "    <tr>\n",
       "      <th>2</th>\n",
       "      <td>able</td>\n",
       "      <td>00000000010</td>\n",
       "      <td>00000000001</td>\n",
       "    </tr>\n",
       "    <tr>\n",
       "      <th>3</th>\n",
       "      <td>about</td>\n",
       "      <td>00000000011</td>\n",
       "      <td>10000000001</td>\n",
       "    </tr>\n",
       "    <tr>\n",
       "      <th>4</th>\n",
       "      <td>above</td>\n",
       "      <td>00000000100</td>\n",
       "      <td>00000000010</td>\n",
       "    </tr>\n",
       "  </tbody>\n",
       "</table>\n",
       "</div>"
      ],
      "text/plain": [
       "      word 11-bit binary rotated_1_bits\n",
       "0  abandon   00000000000    00000000000\n",
       "1  ability   00000000001    10000000000\n",
       "2     able   00000000010    00000000001\n",
       "3    about   00000000011    10000000001\n",
       "4    above   00000000100    00000000010"
      ]
     },
     "execution_count": 123,
     "metadata": {},
     "output_type": "execute_result"
    }
   ],
   "source": [
    "# Add a new column with the right rotated binary\n",
    "bits_to_rotate = 1\n",
    "\n",
    "df[f'rotated_{bits_to_rotate}_bits'] = df['11-bit binary'].apply(lambda x: right_rotate(x, bits_to_rotate))\n",
    "df.head()"
   ]
  },
  {
   "cell_type": "code",
   "execution_count": 124,
   "metadata": {},
   "outputs": [
    {
     "data": {
      "text/html": [
       "<div>\n",
       "<style scoped>\n",
       "    .dataframe tbody tr th:only-of-type {\n",
       "        vertical-align: middle;\n",
       "    }\n",
       "\n",
       "    .dataframe tbody tr th {\n",
       "        vertical-align: top;\n",
       "    }\n",
       "\n",
       "    .dataframe thead th {\n",
       "        text-align: right;\n",
       "    }\n",
       "</style>\n",
       "<table border=\"1\" class=\"dataframe\">\n",
       "  <thead>\n",
       "    <tr style=\"text-align: right;\">\n",
       "      <th></th>\n",
       "      <th>word</th>\n",
       "      <th>11-bit binary</th>\n",
       "      <th>rotated_1_bits</th>\n",
       "      <th>word_rotated_1_bits</th>\n",
       "    </tr>\n",
       "  </thead>\n",
       "  <tbody>\n",
       "    <tr>\n",
       "      <th>0</th>\n",
       "      <td>abandon</td>\n",
       "      <td>00000000000</td>\n",
       "      <td>00000000000</td>\n",
       "      <td>abandon</td>\n",
       "    </tr>\n",
       "    <tr>\n",
       "      <th>1</th>\n",
       "      <td>ability</td>\n",
       "      <td>00000000001</td>\n",
       "      <td>10000000000</td>\n",
       "      <td>length</td>\n",
       "    </tr>\n",
       "    <tr>\n",
       "      <th>2</th>\n",
       "      <td>able</td>\n",
       "      <td>00000000010</td>\n",
       "      <td>00000000001</td>\n",
       "      <td>ability</td>\n",
       "    </tr>\n",
       "    <tr>\n",
       "      <th>3</th>\n",
       "      <td>about</td>\n",
       "      <td>00000000011</td>\n",
       "      <td>10000000001</td>\n",
       "      <td>lens</td>\n",
       "    </tr>\n",
       "    <tr>\n",
       "      <th>4</th>\n",
       "      <td>above</td>\n",
       "      <td>00000000100</td>\n",
       "      <td>00000000010</td>\n",
       "      <td>able</td>\n",
       "    </tr>\n",
       "  </tbody>\n",
       "</table>\n",
       "</div>"
      ],
      "text/plain": [
       "      word 11-bit binary rotated_1_bits word_rotated_1_bits\n",
       "0  abandon   00000000000    00000000000             abandon\n",
       "1  ability   00000000001    10000000000              length\n",
       "2     able   00000000010    00000000001             ability\n",
       "3    about   00000000011    10000000001                lens\n",
       "4    above   00000000100    00000000010                able"
      ]
     },
     "execution_count": 124,
     "metadata": {},
     "output_type": "execute_result"
    }
   ],
   "source": [
    "# Create a mapping from 11-bit binary to word\n",
    "binary_to_word = df.set_index('11-bit binary')['word'].to_dict()\n",
    "\n",
    "# Use the mapping to fill in the new column 'rotated_word'\n",
    "df[f'word_rotated_{bits_to_rotate}_bits'] = df['rotated_1_bits'].map(binary_to_word)\n",
    "df.head()"
   ]
  },
  {
   "cell_type": "markdown",
   "metadata": {},
   "source": []
  },
  {
   "cell_type": "code",
   "execution_count": 125,
   "metadata": {},
   "outputs": [
    {
     "name": "stdout",
     "output_type": "stream",
     "text": [
      "Original Key: ['abandon', 'ability', 'able', 'about', 'above', 'absent', 'absorb', 'abstract', 'absurd', 'abuse', 'access', 'accident']\n",
      "Decoy Key: ['abandon', 'length', 'ability', 'lens', 'able', 'leopard', 'about', 'lesson', 'above', 'letter', 'absent', 'level']\n"
     ]
    }
   ],
   "source": [
    "# Function to convert a list of BIP-39 words to their corresponding 11-bit binary representation\n",
    "def words_to_binary(words_list, word_to_binary_map):\n",
    "    return [word_to_binary_map[word] for word in words_list]\n",
    "\n",
    "# Function to convert a list of 11-bit binary representations to their corresponding BIP-39 words\n",
    "def binary_to_words(binary_list, binary_to_word_map):\n",
    "    return [binary_to_word_map[binary] for binary in binary_list]\n",
    "\n",
    "# Function to generate a decoy private key by rotating the binary representation of the original key\n",
    "def generate_decoy_key(original_key, word_to_binary_map, binary_to_word_map, bits_to_rotate):\n",
    "    # Convert original key to binary\n",
    "    original_binary = words_to_binary(original_key, word_to_binary_map)\n",
    "    \n",
    "    # Rotate each binary representation\n",
    "    rotated_binary = [right_rotate(binary, bits_to_rotate) for binary in original_binary]\n",
    "    \n",
    "    # Convert rotated binary back to words\n",
    "    decoy_key = binary_to_words(rotated_binary, binary_to_word_map)\n",
    "    \n",
    "    return decoy_key\n",
    "\n",
    "# Example usage\n",
    "original_key = ['abandon', 'ability', 'able', 'about', 'above', 'absent', 'absorb', 'abstract', 'absurd', 'abuse', 'access', 'accident']\n",
    "word_to_binary_map = {v: k for k, v in binary_to_word.items()}  # Create a mapping from word to 11-bit binary\n",
    "\n",
    "# Generate decoy key\n",
    "decoy_key = generate_decoy_key(original_key, word_to_binary_map, binary_to_word, bits_to_rotate)\n",
    "print(\"Original Key:\", original_key)\n",
    "print(\"Decoy Key:\", decoy_key)"
   ]
  },
  {
   "cell_type": "code",
   "execution_count": null,
   "metadata": {},
   "outputs": [],
   "source": [
    "import bitcoin\n",
    "\n",
    "def validate_bitcoin_address(address):\n",
    "    try:\n",
    "        # Decode the address using bitcoin library\n",
    "        decoded = bitcoin.base58.decode(address)\n",
    "        \n",
    "        # Check if the length of the decoded address is 25 bytes\n",
    "        if len(decoded) != 25:\n",
    "            return False\n",
    "        \n",
    "        # Extract the checksum from the last 4 bytes\n",
    "        checksum = decoded[-4:]\n",
    "        \n",
    "        # Calculate the checksum of the first 21 bytes\n",
    "        hash1 = bitcoin.bin_hash160(decoded[:-4])\n",
    "        hash2 = bitcoin.bin_hash160(hash1)\n",
    "        \n",
    "        # Compare the calculated checksum with the extracted checksum\n",
    "        return checksum == hash2[:4]\n",
    "    except Exception as e:\n",
    "        return False\n",
    "\n",
    "# Example usage\n",
    "addresses = ['1A1zP1eP5QGefi2DMPTfTL5SLmv7DivfNa', '1BoatSLRHtKNngkdXEeobR76b53LETtpyT']\n",
    "valid_addresses = [address for address in addresses if validate_bitcoin_address(address)]\n",
    "\n",
    "print(\"Valid Bitcoin Addresses:\", valid_addresses)"
   ]
  },
  {
   "cell_type": "markdown",
   "metadata": {},
   "source": []
  },
  {
   "cell_type": "markdown",
   "metadata": {},
   "source": [
    "Retrieve on word"
   ]
  }
 ],
 "metadata": {
  "language_info": {
   "name": "python"
  }
 },
 "nbformat": 4,
 "nbformat_minor": 2
}
