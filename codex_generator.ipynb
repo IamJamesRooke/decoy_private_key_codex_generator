{
 "cells": [
  {
   "cell_type": "code",
   "execution_count": 16,
   "metadata": {},
   "outputs": [],
   "source": [
    "import requests\n",
    "import pandas as pd"
   ]
  },
  {
   "cell_type": "markdown",
   "metadata": {},
   "source": [
    "### Get the Bitcoin word list and convert it to CSV format"
   ]
  },
  {
   "cell_type": "code",
   "execution_count": 20,
   "metadata": {},
   "outputs": [
    {
     "name": "stdout",
     "output_type": "stream",
     "text": [
      "Bitcoin word list has been saved to bip39_word_list.csv\n"
     ]
    }
   ],
   "source": [
    "# URL of the BIP-39 Word List\n",
    "url = 'https://raw.githubusercontent.com/bitcoin/bips/master/bip-0039/english.txt'\n",
    "filename = 'bip39_word_list'\n",
    "\n",
    "# Retrieve the word list\n",
    "response = requests.get(url)\n",
    "words = response.text.splitlines()\n",
    "\n",
    "# Convert words to a DataFrame\n",
    "df = pd.DataFrame({'Number': range(len(words)), 'Word': words})\n",
    "df['Binary'] = df['Number'].apply(lambda x: format(x, '011b'))  # Convert word number to 11-bit binary\n",
    "\n",
    "# Save DataFrame to CSV\n",
    "df[['Word', 'Binary']].to_csv(f'{filename}.csv', index=False, header=False)\n",
    "print(f'Bitcoin word list has been saved to {filename}.csv')"
   ]
  },
  {
   "cell_type": "markdown",
   "metadata": {},
   "source": [
    "Retrieve on word"
   ]
  }
 ],
 "metadata": {
  "language_info": {
   "name": "python"
  }
 },
 "nbformat": 4,
 "nbformat_minor": 2
}
